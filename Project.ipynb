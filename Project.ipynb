{
 "cells": [
  {
   "cell_type": "code",
   "execution_count": null,
   "metadata": {},
   "outputs": [],
   "source": [
    "%matplotlib notebook\n",
    "import matplotlib.pyplot as plt\n",
    "import pandas as pd\n",
    "import numpy as np\n",
    "import requests\n",
    "import json\n",
    "from pprint import pprint\n",
    "from config import api_key\n",
    "import gmaps.datasets\n",
    "import gmaps\n",
    "import time"
   ]
  },
  {
   "cell_type": "markdown",
   "metadata": {},
   "source": [
    "# Drunk Driving Fatal Collisions vs Bars Location"
   ]
  },
  {
   "cell_type": "code",
   "execution_count": null,
   "metadata": {},
   "outputs": [],
   "source": [
    "filepath_TPS_alcohol = \"Resources/Fatal_Collisions.csv\"\n",
    "TPS_alcohol_df = pd.read_csv(filepath_TPS_alcohol)\n",
    "TPS_alcohol_df"
   ]
  },
  {
   "cell_type": "code",
   "execution_count": null,
   "metadata": {},
   "outputs": [],
   "source": [
    "lats=[]\n",
    "lngs=[]\n",
    "for index,row in TPS_alcohol_df.iterrows():\n",
    "    if row[\"ALCOHOL\"] == \"Yes\": \n",
    "        lats.append(row[0])\n",
    "        lngs.append(row[1])"
   ]
  },
  {
   "cell_type": "code",
   "execution_count": null,
   "metadata": {},
   "outputs": [],
   "source": [
    "drunk_drivers = {\"longitudes\":lngs, \"latitudes\":lats}\n",
    "drunk_drivers_df = pd.DataFrame(drunk_drivers)\n",
    "drunk_drivers_df.head()"
   ]
  },
  {
   "cell_type": "code",
   "execution_count": null,
   "metadata": {},
   "outputs": [],
   "source": [
    "target_coordinates = \"43.6532 , -79.3832\"\n",
    "target_search = (\"Bar\",\"Pub\")\n",
    "target_radius = 140000\n",
    "#the radius of toronto is 21 kms\n",
    "target_type = (\"Bar\",\"Pub\")\n",
    "result_list=[]\n",
    "# set up a parameters dictionary\n",
    "params = {\n",
    "    \"location\": target_coordinates,\n",
    "    \"keyword\": target_search,\n",
    "    \"radius\": target_radius,\n",
    "    \"type\": target_type,\n",
    "    \"key\": api_key\n",
    "    }\n",
    "\n",
    "# base url\n",
    "base_url = \"https://maps.googleapis.com/maps/api/place/nearbysearch/json\"\n",
    "response=requests.get(base_url, params=params)\n"
   ]
  },
  {
   "cell_type": "code",
   "execution_count": null,
   "metadata": {},
   "outputs": [],
   "source": [
    "flag = True\n",
    "count=0\n",
    "while flag:\n",
    "    count+=1\n",
    "    print(\"Working on Page \",count)\n",
    "\n",
    "    #response=requests.get(base_url, params=params)\n",
    "    places_data = response.json()\n",
    "    lat=[]\n",
    "    lng=[]\n",
    "    results=places_data['results']\n",
    "    Geo=pd.DataFrame(results)['geometry']\n",
    "    name=pd.DataFrame(results)['name']\n",
    "    for x in Geo:\n",
    "        location=pd.DataFrame(x)['location']\n",
    "        lat.append(location['lat'])\n",
    "        lng.append(location['lng'])\n",
    "    \n",
    "\n",
    "    latitude=pd.DataFrame(lat)\n",
    "    longitude=pd.DataFrame(lng)\n",
    "    barname=pd.DataFrame(name)\n",
    "    barname.join(latitude)\n",
    "    barname['C'] = barname.reset_index().index\n",
    "    latitude['C'] = latitude.reset_index().index\n",
    "    longitude['C'] = longitude.reset_index().index\n",
    "#barname.join(latitude.set_index('C'))\n",
    "#longitude.join(latitude.set_index('C'))\n",
    "    sample2=pd.merge(barname,latitude,on='C')\n",
    "    sample1=pd.merge(sample2,longitude,on='C')\n",
    "    result_list.append(sample1)\n",
    "\n",
    "    if('next_page_token' in places_data):\n",
    "        paramaters = {\n",
    "        \"key\": api_key,\n",
    "        \"pagetoken\":places_data['next_page_token']\n",
    "        }\n",
    "        time.sleep(2)\n",
    "       # print(paramaters)\n",
    "        #print(base_url)\n",
    "        response=requests.get(base_url, paramaters)\n",
    "    else:\n",
    "        flag=False\n",
    "\n",
    "#response = requests.get(base_url, params=params)\n",
    "result_df = pd.concat(result_list)[['name','0_x','0_y']]\n",
    "\n",
    "#print(result_df)\n",
    "result_df2=pd.DataFrame(result_df)\n",
    "result_df2"
   ]
  },
  {
   "cell_type": "code",
   "execution_count": null,
   "metadata": {},
   "outputs": [],
   "source": [
    "gmaps.configure(api_key=api_key)\n",
    "\n",
    "fig = gmaps.figure()\n",
    "\n",
    "heat_layer = gmaps.heatmap_layer(drunk_drivers_df,max_intensity=1)\n",
    "fig.add_layer(heat_layer)\n",
    "marker_layer = gmaps.symbol_layer(result_df2[[\"0_x\",\"0_y\"]],stroke_opacity=1,fill_opacity=1)\n",
    "fig.add_layer(marker_layer)\n",
    "fig"
   ]
  },
  {
   "cell_type": "markdown",
   "metadata": {},
   "source": [
    "# Fatal Collisions vs Neighborhood Mean Income"
   ]
  },
  {
   "cell_type": "code",
   "execution_count": null,
   "metadata": {},
   "outputs": [],
   "source": [
    "income_df=pd.read_csv('Population Income Neighborhood.csv')\n",
    "income_df.head()"
   ]
  },
  {
   "cell_type": "code",
   "execution_count": null,
   "metadata": {},
   "outputs": [],
   "source": [
    "#fig_income = gmaps.figure()\n",
    "\n",
    "#heat_layer2 = gmaps.heatmap_layer(income_df[[\"Lat\",\"Long\"]],max_intensity=3)\n",
    "#fig_income.add_layer(heat_layer2)\n",
    "#income_integer = income_df[\"Neighborhood Mean Income\"].astype(int)\n",
    "#heat_layer2.point_radius = 3\n",
    "#marker_layer = gmaps.symbol_layer(TPS_df[[\"Y\",\"X\"]],stroke_opacity=0.2,fill_opacity=0.2,scale=income_df[\"Neighborhood Mean Income\"])\n",
    "#fig_income.add_layer(marker_layer)\n",
    "#fig_income"
   ]
  },
  {
   "cell_type": "markdown",
   "metadata": {},
   "source": [
    "# Fatal Collisions vs Neighborhood Income"
   ]
  },
  {
   "cell_type": "code",
   "execution_count": null,
   "metadata": {},
   "outputs": [],
   "source": [
    "filepath_TPS = \"Accident_info (1).csv\"\n",
    "TPS_df = pd.read_csv(filepath_TPS)\n",
    "\n",
    "TPS_df"
   ]
  },
  {
   "cell_type": "code",
   "execution_count": null,
   "metadata": {},
   "outputs": [],
   "source": [
    "lats1=[]\n",
    "lngs1=[]\n",
    "for index,row in TPS_df.iterrows():\n",
    "    lats1.append(row[1])\n",
    "    lngs1.append(row[2])"
   ]
  },
  {
   "cell_type": "code",
   "execution_count": null,
   "metadata": {},
   "outputs": [],
   "source": [
    "popinc_df=pd.read_csv('Population Income Neighborhood.csv')\n",
    "popinc_df.head()"
   ]
  },
  {
   "cell_type": "code",
   "execution_count": null,
   "metadata": {},
   "outputs": [],
   "source": [
    "# a=[]\n",
    "# for z in range(0,len(popinc_df['Neighborhood Mean Income'])):\n",
    "#     a.append((popinc_df.iloc[z,3]/10000).astype(int))\n",
    "    \n",
    "# x=(np.array(a)*2).astype(int)\n",
    "# len(x)\n",
    "# b=x.tolist()"
   ]
  },
  {
   "cell_type": "code",
   "execution_count": null,
   "metadata": {},
   "outputs": [],
   "source": [
    "# fig = gmaps.figure()\n",
    "\n",
    "# heat_layer = gmaps.heatmap_layer(TPS_df[[\"LATITUDE\",\"LONGITUDE\"]],max_intensity=1)\n",
    "\n",
    "# fig.add_layer(heat_layer)\n",
    "\n",
    "# marker_layer = gmaps.symbol_layer(popinc_df[[\"Lat\",\"Long\"]],stroke_opacity=0.4,fill_opacity=0.6,scale=b)# scale is income parameter\n",
    "# fig.add_layer(marker_layer)\n",
    "# fig"
   ]
  },
  {
   "cell_type": "code",
   "execution_count": null,
   "metadata": {},
   "outputs": [],
   "source": [
    "from math import sin, cos, sqrt, atan2, radians\n",
    "def calculate_distance(lat1, lon1, lat2, lon2):\n",
    "   R = 6373.0\n",
    "   lat1 = radians(lat1)\n",
    "   lon1 = radians(lon1)\n",
    "   lat2 = radians(lat2)\n",
    "   lon2 = radians(lon2)\n",
    "   dlon = lon2 - lon1\n",
    "   dlat = lat2 - lat1\n",
    "   a = sin(dlat / 2)**2 + cos(lat1) * cos(lat2) * sin(dlon / 2)**2\n",
    "   c = 2 * atan2(sqrt(a), sqrt(1 - a))\n",
    "   return R * c\n",
    "print(calculate_distance(52.2296756,21.0122287,52.406374,16.9251681))"
   ]
  },
  {
   "cell_type": "code",
   "execution_count": null,
   "metadata": {},
   "outputs": [],
   "source": [
    "popinc_df[\"Number of Accidents\"]=0\n",
    "popinc_df.head()"
   ]
  },
  {
   "cell_type": "code",
   "execution_count": null,
   "metadata": {},
   "outputs": [],
   "source": [
    "popinc_df=popinc_df.drop(axis='columns',columns=[\"Unnamed: 0\"])"
   ]
  },
  {
   "cell_type": "code",
   "execution_count": null,
   "metadata": {},
   "outputs": [],
   "source": [
    "popinc_df=popinc_df.set_index('Category')"
   ]
  },
  {
   "cell_type": "code",
   "execution_count": null,
   "metadata": {},
   "outputs": [],
   "source": [
    "popinc_df.head()"
   ]
  },
  {
   "cell_type": "code",
   "execution_count": null,
   "metadata": {},
   "outputs": [],
   "source": [
    "for w in range(len(TPS_df)):\n",
    "    mini=100000\n",
    "    for y in range(len(popinc_df)):\n",
    "           \n",
    "        dist = calculate_distance(TPS_df.iloc[w,1],TPS_df.iloc[w,2],popinc_df.iloc[y,2],popinc_df.iloc[y,3])\n",
    "        if (dist<mini):\n",
    "            mini=dist\n",
    "            y1=y\n",
    "    popinc_df.iloc[y1,4]=popinc_df.iloc[y1,4]+1\n",
    "popinc_df.head()"
   ]
  },
  {
   "cell_type": "code",
   "execution_count": null,
   "metadata": {},
   "outputs": [],
   "source": [
    "plt.scatter(popinc_df['Neighborhood Mean Income'],popinc_df['Number of Accidents'],marker='o',facecolors=\"green\",edgecolors=\"brown\")\n",
    "plt.xlabel('Neighborhood Mean Income($)')\n",
    "plt.ylabel('Number of Accidents')\n",
    "plt.title('Accidents vs Neighborhood Income')\n",
    "plt.savefig('Accidents vs Neighborhood Income')"
   ]
  },
  {
   "cell_type": "markdown",
   "metadata": {},
   "source": [
    "# Type of Vehicle involved in Fatal Collisions"
   ]
  },
  {
   "cell_type": "code",
   "execution_count": null,
   "metadata": {},
   "outputs": [],
   "source": [
    "filepath_TPS_V = \"Fatal_Collisions.csv\"\n",
    "TPS_V_df = pd.read_csv(filepath_TPS_V)\n",
    "a=TPS_V_df[TPS_V_df['IMPACTYPE']=='Pedestrian Collisions']\n",
    "a"
   ]
  },
  {
   "cell_type": "code",
   "execution_count": null,
   "metadata": {},
   "outputs": [],
   "source": [
    "lats_v=[]\n",
    "lngs_v=[]\n",
    "for index,row in TPS_V_df.iterrows():\n",
    "   lats_v.append(row[0])\n",
    "   lngs_v.append(row[1])\n",
    "    \n",
    "fig_v = gmaps.figure()\n",
    "\n",
    "\n",
    "symbol_layer=gmaps.symbol_layer(TPS_V_df[[\"Y\",\"X\"]],stroke_opacity=0.1,fill_opacity=0.1)\n",
    "fig_v.add_layer(symbol_layer)\n",
    "fig_v"
   ]
  },
  {
   "cell_type": "markdown",
   "metadata": {},
   "source": [
    "# Cause of Collision"
   ]
  },
  {
   "cell_type": "code",
   "execution_count": null,
   "metadata": {},
   "outputs": [],
   "source": [
    "filepath_coll = \"Fatal_Collisions.csv\"\n",
    "fatal_coll=pd.read_csv(filepath_coll)\n",
    "fatal_coll.head()"
   ]
  },
  {
   "cell_type": "code",
   "execution_count": null,
   "metadata": {},
   "outputs": [],
   "source": [
    "fatal_col1=fatal_coll[['LATITUDE','LONGITUDE','STREET1','STREET2','DATE','TIME','YEAR','ROAD_CLASS','District','LOCCOORD','TRAFFCTL','VISIBILITY','LIGHT',\n",
    "                       'INVTYPE','INVAGE','VEHTYPE','MANOEUVER','DRIVACT','DRIVCOND','PEDESTRIAN','CYCLIST','AUTOMOBILE','MOTORCYCLE','TRUCK','SPEEDING','REDLIGHT','ALCOHOL','Neighbourh','ObjectId']]"
   ]
  },
  {
   "cell_type": "code",
   "execution_count": null,
   "metadata": {},
   "outputs": [],
   "source": [
    "fatal_col1.columns"
   ]
  },
  {
   "cell_type": "code",
   "execution_count": null,
   "metadata": {},
   "outputs": [],
   "source": [
    "fatal_col2=fatal_col1.rename(columns={\"LOCCOORD\":\"INTERSECTION\",\"ROAD_CLASS\":\"ACCIDENT LANE\",\"INVTYPE\":\"VICTIM\",\"INVAGE\":\"VICTIM AGE\"})\n",
    "fatal_col2.columns"
   ]
  },
  {
   "cell_type": "code",
   "execution_count": null,
   "metadata": {},
   "outputs": [],
   "source": [
    "fatal_col3=fatal_col2[['LATITUDE','LONGITUDE','DATE','TIME','YEAR','ACCIDENT LANE','District','INTERSECTION','VISIBILITY','LIGHT',\n",
    "                       'VICTIM','VICTIM AGE','VEHTYPE','DRIVACT','PEDESTRIAN','CYCLIST','AUTOMOBILE','MOTORCYCLE','TRUCK','SPEEDING','REDLIGHT','ALCOHOL','Neighbourh','ObjectId']]\n",
    "fatal_col3.columns"
   ]
  },
  {
   "cell_type": "code",
   "execution_count": null,
   "metadata": {},
   "outputs": [],
   "source": [
    "fatal_col4=fatal_col3\n",
    "fatal_col4.columns"
   ]
  },
  {
   "cell_type": "code",
   "execution_count": null,
   "metadata": {},
   "outputs": [],
   "source": [
    "def cause_finder(r):\n",
    "    \n",
    "    if ((r['ALCOHOL'] == 'Yes') and (r['SPEEDING'] == 'Yes')):\n",
    "        v = \"Alcohol & Speeding\"\n",
    "    elif (r['SPEEDING'] == 'Yes'):\n",
    "        v = \"Speeding\"\n",
    "    elif (r['ALCOHOL'] == 'Yes'):\n",
    "        v = \"Alcohol\"\n",
    "    elif ((r['DRIVACT']=='Disobeyed Traffic Control') or (r['DRIVACT']=='Exceeding Speed Limit') or \n",
    "          (r['DRIVACT']=='Failed to Yield Right of Way') or (r['DRIVACT']=='Following too Close') or \n",
    "         (r['DRIVACT']=='Improper Lane Change') or (r['DRIVACT']=='Improper Passing') or\n",
    "         (r['DRIVACT']=='Improper Turn') or (r['DRIVACT']=='Lost control') or (r['DRIVACT']=='Speed too Fast For Condition') or\n",
    "         (r['DRIVACT']=='Wrong Way on One Way Road') or (r['DRIVACT']=='Speed too Slow')):\n",
    "        v= r['DRIVACT']\n",
    "    elif ((r['VISIBILITY']=='Rain') or (r['VISIBILITY']=='Snow') or (r['VISIBILITY']=='Freezing Rain') or\n",
    "          (r['VISIBILITY']=='Fog, Mist, Smoke, Dust')):\n",
    "        v= r['VISIBILITY']\n",
    "    else:\n",
    "        v='Unknown'\n",
    " \n",
    "    return v\n",
    "\n",
    "fatal_col4['Cause'] = fatal_col4.apply(cause_finder, axis = 1)\n",
    "#fatal_col4.loc[fatal_col4['Cause_Real']=='']\n",
    "fatal_col4['Cause'].value_counts()"
   ]
  },
  {
   "cell_type": "code",
   "execution_count": null,
   "metadata": {},
   "outputs": [],
   "source": [
    "fatal_col4.head()"
   ]
  },
  {
   "cell_type": "code",
   "execution_count": null,
   "metadata": {},
   "outputs": [],
   "source": [
    "Accident_info=fatal_col4[['LATITUDE', 'LONGITUDE', 'DATE', 'TIME', 'YEAR', 'ACCIDENT LANE',\n",
    "       'District', 'INTERSECTION','VICTIM',\n",
    "       'VICTIM AGE', 'VEHTYPE', 'DRIVACT', 'PEDESTRIAN', 'CYCLIST',\n",
    "       'AUTOMOBILE', 'MOTORCYCLE', 'TRUCK', 'Cause','Neighbourh']]\n",
    "Accident_info.to_csv(\"Accident_info.csv\")\n",
    "fatal_col4.to_csv(\"Fatal Collisions.csv\")\n",
    "Accident_info.head()"
   ]
  },
  {
   "cell_type": "code",
   "execution_count": null,
   "metadata": {},
   "outputs": [],
   "source": [
    "Cause_df=Accident_info.groupby('Cause').count()\n",
    "Cause=Cause_df.drop(axis='index',index='Unknown')"
   ]
  },
  {
   "cell_type": "code",
   "execution_count": null,
   "metadata": {},
   "outputs": [],
   "source": [
    "plt.barh(Cause.index,width=Cause['DRIVACT'],height=0.8,color=\"green\")\n",
    "plt.xlabel('Number of Accidents')\n",
    "plt.ylabel('Cause')\n",
    "plt.title('Accidents vs Cause')\n",
    "plt.savefig('Accidents vs Cause')"
   ]
  },
  {
   "cell_type": "code",
   "execution_count": null,
   "metadata": {},
   "outputs": [],
   "source": []
  },
  {
   "cell_type": "code",
   "execution_count": null,
   "metadata": {},
   "outputs": [],
   "source": []
  }
 ],
 "metadata": {
  "kernelspec": {
   "display_name": "Python 3",
   "language": "python",
   "name": "python3"
  },
  "language_info": {
   "codemirror_mode": {
    "name": "ipython",
    "version": 3
   },
   "file_extension": ".py",
   "mimetype": "text/x-python",
   "name": "python",
   "nbconvert_exporter": "python",
   "pygments_lexer": "ipython3",
   "version": "3.7.3"
  }
 },
 "nbformat": 4,
 "nbformat_minor": 2
}
